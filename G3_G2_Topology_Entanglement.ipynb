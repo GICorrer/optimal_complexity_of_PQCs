{
 "cells": [
  {
   "cell_type": "code",
   "execution_count": 1,
   "id": "d85aacdf",
   "metadata": {},
   "outputs": [],
   "source": [
    "import datetime as dt\n",
    "import pennylane as qml\n",
    "from pennylane import numpy as np\n",
    "import matplotlib.pyplot as plt\n",
    "import random #GGC added library"
   ]
  },
  {
   "cell_type": "markdown",
   "id": "927aa320",
   "metadata": {},
   "source": [
    "# Fixed parameters (number of samples)"
   ]
  },
  {
   "cell_type": "code",
   "execution_count": 2,
   "id": "87c11b2a",
   "metadata": {},
   "outputs": [],
   "source": [
    "#Number of samples determined by Chebyshev inequality\n",
    "samples = 10000"
   ]
  },
  {
   "cell_type": "markdown",
   "id": "0fd63fcf",
   "metadata": {},
   "source": [
    "# Variable parameters (qubits and layers)"
   ]
  },
  {
   "cell_type": "code",
   "execution_count": 3,
   "id": "0ff558c5",
   "metadata": {},
   "outputs": [],
   "source": [
    "#List of number of qubits\n",
    "#qubits = [4]\n",
    "qubits = [8]\n",
    "\n",
    "#List of number of layers\n",
    "#layers = [1, 2, 3, 4, 5]\n",
    "#layers = [int(20/11), int(30/11), int(40/11), int(60/11), int(70/11), int(80/11), int(90/11), int(100/11), int(110/11)] #/x porque agora temos x gates por layer no no-connection\n",
    "layers = [int(30/23), int(60/23), int(90/23), int(120/23), int(180/23), int(210/23), int(240/23)]"
   ]
  },
  {
   "cell_type": "markdown",
   "id": "0894c569",
   "metadata": {},
   "source": [
    "# Function to calculate Meyer-Wallach mean and standard deviation"
   ]
  },
  {
   "cell_type": "code",
   "execution_count": 4,
   "id": "8c2c6527",
   "metadata": {},
   "outputs": [],
   "source": [
    "def ent_cap(samples, circuit, nlayers):\n",
    "    MW_mean = 0\n",
    "    MW_mean_sqr = 0\n",
    "    \n",
    "    for i in range(samples):\n",
    "        pur_sum = 0\n",
    "        for k in range(wires):\n",
    "            state = circuit(k)\n",
    "            pur_sum = pur_sum + np.trace(np.matmul(state, state))\n",
    "\n",
    "        MW_measure = 2*(1-1/wires*pur_sum)\n",
    "        MW_measure_sqr = MW_measure**2\n",
    "\n",
    "        MW_mean = MW_mean + MW_measure\n",
    "        MW_mean_sqr = MW_mean_sqr + MW_measure_sqr\n",
    "        \n",
    "    MW_mean = MW_mean/samples\n",
    "    MW_mean_sqr = MW_mean_sqr/samples\n",
    "    MW_standev = np.sqrt(MW_mean_sqr - MW_mean**2)\n",
    "    return(MW_mean, MW_standev)"
   ]
  },
  {
   "cell_type": "markdown",
   "id": "86b5f9ba",
   "metadata": {},
   "source": [
    "# Code that executes the different conditions"
   ]
  },
  {
   "cell_type": "code",
   "execution_count": 5,
   "id": "906b0cb1",
   "metadata": {},
   "outputs": [
    {
     "name": "stdout",
     "output_type": "stream",
     "text": [
      "Tempo inicial: \n",
      "2025-07-08 00:37:11\n",
      "\n",
      "Execution: qubits= 8 ; layers= 1\n",
      "Tempo:  2025-07-08 00:41:29\n",
      "\n",
      "Execution: qubits= 8 ; layers= 2\n",
      "Tempo:  2025-07-08 00:50:22\n",
      "\n",
      "Execution: qubits= 8 ; layers= 3\n",
      "Tempo:  2025-07-08 01:02:24\n",
      "\n",
      "Execution: qubits= 8 ; layers= 5\n",
      "Tempo:  2025-07-08 01:16:10\n",
      "\n",
      "Execution: qubits= 8 ; layers= 7\n",
      "Tempo:  2025-07-08 01:32:04\n",
      "\n",
      "Execution: qubits= 8 ; layers= 9\n",
      "Tempo:  2025-07-08 01:51:54\n",
      "\n",
      "Execution: qubits= 8 ; layers= 10\n",
      "Tempo:  2025-07-08 02:13:07\n",
      "\n",
      "\n",
      "Tempo inicial: \n",
      "2025-07-08 00:37:11\n",
      "Tempo final:\n",
      "2025-07-08 02:13:07\n"
     ]
    }
   ],
   "source": [
    "now0 = dt.datetime.now() #monitorar tempo de início\n",
    "now0 = now0.strftime(\"%Y-%m-%d %H:%M:%S\")\n",
    "print(\"Tempo inicial: \")\n",
    "print(now0)\n",
    "print()\n",
    "\n",
    "for wires in qubits:\n",
    "    dev = qml.device(\"default.qubit\", wires=wires, shots=None)    \n",
    "    \n",
    "    for nlayers in layers:\n",
    "        \n",
    "        #GGC addition of random G3 circuit (I have left the input parameter (though useless) in order to keep code shape\n",
    "\n",
    "#============================================================================================================================================\n",
    "\n",
    "        def layer_random():\n",
    "            for index in range(8):\n",
    "                i1 = random.sample(range(0,wires), 2)\n",
    "    \n",
    "                i2 = random.randint(1,2)\n",
    "                if   i2 == 1 :\n",
    "                        qml.Hadamard(wires=[i1[0]])\n",
    "                elif i2 == 2 :\n",
    "                        qml.S(wires=[i1[0]]) #Other option: qml.S(wires=[i1[0]])\n",
    "                    \n",
    "            #CNOTS(Diferentes topologias)\n",
    "\n",
    "            #qml.broadcast(qml.CNOT, wires=range(wires), pattern=\"chain\") #linear\n",
    "\n",
    "            #qml.broadcast(qml.CNOT, wires=range(wires), pattern=\"chain\") #ring\n",
    "            #qml.CNOT(wires=[wires-1,0])\n",
    "\n",
    "            for i in range(wires-1): #star\n",
    "                qml.CNOT(wires = [0, i+1])\n",
    "\n",
    "#============================================================================================================================================\n",
    "        def randomC(k):\n",
    "            qml.layer(layer_random, nlayers)\n",
    "            return qml.density_matrix([k])\n",
    "        \n",
    "        \n",
    "        random_circuit = qml.QNode(randomC, dev)\n",
    "        \n",
    "        \n",
    "        ent_random, ent_random_standev = ent_cap(samples, random_circuit, nlayers)\n",
    "        \n",
    "        f = open(\"entanglement_G2star_qubits{0}_layers{1}_samples{2}.txt\"\n",
    "                         .format(wires,nlayers,samples), \"w\")\n",
    "        \n",
    "        print('Circuit,MW_mean,MW_standdev', file = f)\n",
    "        print('Random Circuit G3,',ent_random,',', ent_random_standev, file = f)\n",
    "        \n",
    "        print('Execution: qubits=',wires,'; layers=', nlayers)\n",
    "        f.close()\n",
    "        now1 = dt.datetime.now() #monitorar tempo de início\n",
    "        now1 = now1.strftime(\"%Y-%m-%d %H:%M:%S\")\n",
    "        print(\"Tempo: \",now1)\n",
    "        print()\n",
    "        \n",
    "now1 = dt.datetime.now() #monitorar tempo de início\n",
    "now1 = now1.strftime(\"%Y-%m-%d %H:%M:%S\")\n",
    "\n",
    "f.close()\n",
    "\n",
    "print()\n",
    "print(\"Tempo inicial: \")\n",
    "print(now0)\n",
    "print(\"Tempo final:\")\n",
    "print(now1)"
   ]
  }
 ],
 "metadata": {
  "kernelspec": {
   "display_name": "Python 3 (ipykernel)",
   "language": "python",
   "name": "python3"
  },
  "language_info": {
   "codemirror_mode": {
    "name": "ipython",
    "version": 3
   },
   "file_extension": ".py",
   "mimetype": "text/x-python",
   "name": "python",
   "nbconvert_exporter": "python",
   "pygments_lexer": "ipython3",
   "version": "3.12.4"
  }
 },
 "nbformat": 4,
 "nbformat_minor": 5
}
